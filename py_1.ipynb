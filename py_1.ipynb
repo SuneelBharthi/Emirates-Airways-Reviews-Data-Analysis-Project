{
 "cells": [
  {
   "cell_type": "code",
   "execution_count": 23,
   "id": "3fd63522",
   "metadata": {},
   "outputs": [],
   "source": [
    "import pandas as pd"
   ]
  },
  {
   "cell_type": "code",
   "execution_count": 24,
   "id": "0cac775c",
   "metadata": {},
   "outputs": [],
   "source": [
    "df = pd.read_csv(\"Emirates Airways Reviews.csv\")"
   ]
  },
  {
   "cell_type": "code",
   "execution_count": 25,
   "id": "a111e4df",
   "metadata": {},
   "outputs": [
    {
     "data": {
      "text/html": [
       "<div>\n",
       "<style scoped>\n",
       "    .dataframe tbody tr th:only-of-type {\n",
       "        vertical-align: middle;\n",
       "    }\n",
       "\n",
       "    .dataframe tbody tr th {\n",
       "        vertical-align: top;\n",
       "    }\n",
       "\n",
       "    .dataframe thead th {\n",
       "        text-align: right;\n",
       "    }\n",
       "</style>\n",
       "<table border=\"1\" class=\"dataframe\">\n",
       "  <thead>\n",
       "    <tr style=\"text-align: right;\">\n",
       "      <th></th>\n",
       "      <th>Title</th>\n",
       "      <th>Date Published</th>\n",
       "      <th>Status</th>\n",
       "      <th>Aircraft</th>\n",
       "      <th>Travel Type</th>\n",
       "      <th>Travel Class</th>\n",
       "      <th>Route</th>\n",
       "      <th>Date Flown</th>\n",
       "      <th>Seating Comfort</th>\n",
       "      <th>Staff Service</th>\n",
       "      <th>Food Quality</th>\n",
       "      <th>Entertainment</th>\n",
       "      <th>WiFi</th>\n",
       "      <th>Ground Service</th>\n",
       "      <th>Value for Money</th>\n",
       "      <th>Recommended</th>\n",
       "      <th>Overall Rating</th>\n",
       "      <th>Review</th>\n",
       "      <th>Country</th>\n",
       "    </tr>\n",
       "  </thead>\n",
       "  <tbody>\n",
       "    <tr>\n",
       "      <th>0</th>\n",
       "      <td>\"upgrade to business class\"</td>\n",
       "      <td>12th August 2024</td>\n",
       "      <td>Trip Verified</td>\n",
       "      <td>Boeing 777</td>\n",
       "      <td>Solo Leisure</td>\n",
       "      <td>Business Class</td>\n",
       "      <td>Dubai to Lisbon</td>\n",
       "      <td>August 2024</td>\n",
       "      <td>5.0</td>\n",
       "      <td>5.0</td>\n",
       "      <td>5.0</td>\n",
       "      <td>5.0</td>\n",
       "      <td>5.0</td>\n",
       "      <td>5.0</td>\n",
       "      <td>5</td>\n",
       "      <td>yes</td>\n",
       "      <td>10</td>\n",
       "      <td>I flew a return trip DXB-LIS-DXB I used my ...</td>\n",
       "      <td>United Arab Emirates</td>\n",
       "    </tr>\n",
       "    <tr>\n",
       "      <th>1</th>\n",
       "      <td>\"14 hour horrendous experience\"</td>\n",
       "      <td>11th August 2024</td>\n",
       "      <td>Trip Verified</td>\n",
       "      <td>NaN</td>\n",
       "      <td>Couple Leisure</td>\n",
       "      <td>Economy Class</td>\n",
       "      <td>Delhi to Boston via Dubai</td>\n",
       "      <td>August 2024</td>\n",
       "      <td>1.0</td>\n",
       "      <td>1.0</td>\n",
       "      <td>3.0</td>\n",
       "      <td>3.0</td>\n",
       "      <td>2.0</td>\n",
       "      <td>3.0</td>\n",
       "      <td>2</td>\n",
       "      <td>no</td>\n",
       "      <td>4</td>\n",
       "      <td>We were 2 people travelling together and on...</td>\n",
       "      <td>India</td>\n",
       "    </tr>\n",
       "    <tr>\n",
       "      <th>2</th>\n",
       "      <td>\"not welcome and passengers are a burden\"</td>\n",
       "      <td>29th July 2024</td>\n",
       "      <td>Not Verified</td>\n",
       "      <td>Boeing 777-300</td>\n",
       "      <td>Solo Leisure</td>\n",
       "      <td>Economy Class</td>\n",
       "      <td>Amsterdam to Phuket via Dubai</td>\n",
       "      <td>June 2024</td>\n",
       "      <td>2.0</td>\n",
       "      <td>1.0</td>\n",
       "      <td>4.0</td>\n",
       "      <td>2.0</td>\n",
       "      <td>3.0</td>\n",
       "      <td>3.0</td>\n",
       "      <td>2</td>\n",
       "      <td>no</td>\n",
       "      <td>5</td>\n",
       "      <td>First time flying Emirates, was expecting a...</td>\n",
       "      <td>Netherlands</td>\n",
       "    </tr>\n",
       "    <tr>\n",
       "      <th>3</th>\n",
       "      <td>\"should be considered among the worst\"</td>\n",
       "      <td>18th July 2024</td>\n",
       "      <td>Trip Verified</td>\n",
       "      <td>A380</td>\n",
       "      <td>Business</td>\n",
       "      <td>Economy Class</td>\n",
       "      <td>Manchester to Singapore via Dubai</td>\n",
       "      <td>July 2024</td>\n",
       "      <td>1.0</td>\n",
       "      <td>1.0</td>\n",
       "      <td>2.0</td>\n",
       "      <td>NaN</td>\n",
       "      <td>NaN</td>\n",
       "      <td>1.0</td>\n",
       "      <td>1</td>\n",
       "      <td>no</td>\n",
       "      <td>1</td>\n",
       "      <td>Ground Staff and Service Failures on Flight ...</td>\n",
       "      <td>Singapore</td>\n",
       "    </tr>\n",
       "    <tr>\n",
       "      <th>4</th>\n",
       "      <td>“services are very great”</td>\n",
       "      <td>13th July 2024</td>\n",
       "      <td>Not Verified</td>\n",
       "      <td>A380</td>\n",
       "      <td>Family Leisure</td>\n",
       "      <td>Economy Class</td>\n",
       "      <td>Bangkok to Hong Kong</td>\n",
       "      <td>August 2023</td>\n",
       "      <td>5.0</td>\n",
       "      <td>5.0</td>\n",
       "      <td>5.0</td>\n",
       "      <td>5.0</td>\n",
       "      <td>4.0</td>\n",
       "      <td>5.0</td>\n",
       "      <td>5</td>\n",
       "      <td>yes</td>\n",
       "      <td>10</td>\n",
       "      <td>The staff are friendly and the seat is comfo...</td>\n",
       "      <td>Hong Kong</td>\n",
       "    </tr>\n",
       "  </tbody>\n",
       "</table>\n",
       "</div>"
      ],
      "text/plain": [
       "                                       Title    Date Published         Status  \\\n",
       "0                \"upgrade to business class\"  12th August 2024  Trip Verified   \n",
       "1            \"14 hour horrendous experience\"  11th August 2024  Trip Verified   \n",
       "2  \"not welcome and passengers are a burden\"    29th July 2024   Not Verified   \n",
       "3     \"should be considered among the worst\"    18th July 2024  Trip Verified   \n",
       "4                  “services are very great”    13th July 2024   Not Verified   \n",
       "\n",
       "         Aircraft     Travel Type    Travel Class  \\\n",
       "0      Boeing 777    Solo Leisure  Business Class   \n",
       "1             NaN  Couple Leisure   Economy Class   \n",
       "2  Boeing 777-300    Solo Leisure   Economy Class   \n",
       "3            A380        Business   Economy Class   \n",
       "4            A380  Family Leisure   Economy Class   \n",
       "\n",
       "                               Route   Date Flown  Seating Comfort  \\\n",
       "0                    Dubai to Lisbon  August 2024              5.0   \n",
       "1          Delhi to Boston via Dubai  August 2024              1.0   \n",
       "2      Amsterdam to Phuket via Dubai    June 2024              2.0   \n",
       "3  Manchester to Singapore via Dubai    July 2024              1.0   \n",
       "4               Bangkok to Hong Kong  August 2023              5.0   \n",
       "\n",
       "   Staff Service  Food Quality  Entertainment  WiFi  Ground Service  \\\n",
       "0            5.0           5.0            5.0   5.0             5.0   \n",
       "1            1.0           3.0            3.0   2.0             3.0   \n",
       "2            1.0           4.0            2.0   3.0             3.0   \n",
       "3            1.0           2.0            NaN   NaN             1.0   \n",
       "4            5.0           5.0            5.0   4.0             5.0   \n",
       "\n",
       "   Value for Money Recommended  Overall Rating  \\\n",
       "0                5         yes              10   \n",
       "1                2          no               4   \n",
       "2                2          no               5   \n",
       "3                1          no               1   \n",
       "4                5         yes              10   \n",
       "\n",
       "                                              Review               Country  \n",
       "0     I flew a return trip DXB-LIS-DXB I used my ...  United Arab Emirates  \n",
       "1     We were 2 people travelling together and on...                 India  \n",
       "2     First time flying Emirates, was expecting a...           Netherlands  \n",
       "3    Ground Staff and Service Failures on Flight ...             Singapore  \n",
       "4    The staff are friendly and the seat is comfo...             Hong Kong  "
      ]
     },
     "execution_count": 25,
     "metadata": {},
     "output_type": "execute_result"
    }
   ],
   "source": [
    "df.head()"
   ]
  },
  {
   "cell_type": "code",
   "execution_count": 26,
   "id": "99ccefe8",
   "metadata": {},
   "outputs": [
    {
     "data": {
      "text/plain": [
       "(1540, 19)"
      ]
     },
     "execution_count": 26,
     "metadata": {},
     "output_type": "execute_result"
    }
   ],
   "source": [
    "df.shape"
   ]
  },
  {
   "cell_type": "code",
   "execution_count": 27,
   "id": "136061ec",
   "metadata": {},
   "outputs": [
    {
     "name": "stdout",
     "output_type": "stream",
     "text": [
      "<class 'pandas.core.frame.DataFrame'>\n",
      "RangeIndex: 1540 entries, 0 to 1539\n",
      "Data columns (total 19 columns):\n",
      " #   Column           Non-Null Count  Dtype  \n",
      "---  ------           --------------  -----  \n",
      " 0   Title            1540 non-null   object \n",
      " 1   Date Published   1540 non-null   object \n",
      " 2   Status           1398 non-null   object \n",
      " 3   Aircraft         1037 non-null   object \n",
      " 4   Travel Type      1540 non-null   object \n",
      " 5   Travel Class     1540 non-null   object \n",
      " 6   Route            1538 non-null   object \n",
      " 7   Date Flown       1540 non-null   object \n",
      " 8   Seating Comfort  1477 non-null   float64\n",
      " 9   Staff Service    1476 non-null   float64\n",
      " 10  Food Quality     1418 non-null   float64\n",
      " 11  Entertainment    1380 non-null   float64\n",
      " 12  WiFi             934 non-null    float64\n",
      " 13  Ground Service   1501 non-null   float64\n",
      " 14  Value for Money  1540 non-null   int64  \n",
      " 15  Recommended      1540 non-null   object \n",
      " 16  Overall Rating   1540 non-null   int64  \n",
      " 17  Review           1540 non-null   object \n",
      " 18  Country          1540 non-null   object \n",
      "dtypes: float64(6), int64(2), object(11)\n",
      "memory usage: 228.7+ KB\n"
     ]
    }
   ],
   "source": [
    "df.info()"
   ]
  },
  {
   "cell_type": "code",
   "execution_count": 28,
   "id": "9e59dc2a",
   "metadata": {},
   "outputs": [
    {
     "data": {
      "text/html": [
       "<div>\n",
       "<style scoped>\n",
       "    .dataframe tbody tr th:only-of-type {\n",
       "        vertical-align: middle;\n",
       "    }\n",
       "\n",
       "    .dataframe tbody tr th {\n",
       "        vertical-align: top;\n",
       "    }\n",
       "\n",
       "    .dataframe thead th {\n",
       "        text-align: right;\n",
       "    }\n",
       "</style>\n",
       "<table border=\"1\" class=\"dataframe\">\n",
       "  <thead>\n",
       "    <tr style=\"text-align: right;\">\n",
       "      <th></th>\n",
       "      <th>Seating Comfort</th>\n",
       "      <th>Staff Service</th>\n",
       "      <th>Food Quality</th>\n",
       "      <th>Entertainment</th>\n",
       "      <th>WiFi</th>\n",
       "      <th>Ground Service</th>\n",
       "      <th>Value for Money</th>\n",
       "      <th>Overall Rating</th>\n",
       "    </tr>\n",
       "  </thead>\n",
       "  <tbody>\n",
       "    <tr>\n",
       "      <th>count</th>\n",
       "      <td>1477.000000</td>\n",
       "      <td>1476.000000</td>\n",
       "      <td>1418.000000</td>\n",
       "      <td>1380.000000</td>\n",
       "      <td>934.000000</td>\n",
       "      <td>1501.00000</td>\n",
       "      <td>1540.000000</td>\n",
       "      <td>1540.000000</td>\n",
       "    </tr>\n",
       "    <tr>\n",
       "      <th>mean</th>\n",
       "      <td>3.223426</td>\n",
       "      <td>2.977642</td>\n",
       "      <td>3.000000</td>\n",
       "      <td>3.704348</td>\n",
       "      <td>2.751606</td>\n",
       "      <td>2.85010</td>\n",
       "      <td>2.819481</td>\n",
       "      <td>4.814286</td>\n",
       "    </tr>\n",
       "    <tr>\n",
       "      <th>std</th>\n",
       "      <td>1.401284</td>\n",
       "      <td>1.592836</td>\n",
       "      <td>1.476707</td>\n",
       "      <td>1.376108</td>\n",
       "      <td>1.478815</td>\n",
       "      <td>1.59233</td>\n",
       "      <td>1.534489</td>\n",
       "      <td>3.331275</td>\n",
       "    </tr>\n",
       "    <tr>\n",
       "      <th>min</th>\n",
       "      <td>1.000000</td>\n",
       "      <td>1.000000</td>\n",
       "      <td>1.000000</td>\n",
       "      <td>1.000000</td>\n",
       "      <td>1.000000</td>\n",
       "      <td>1.00000</td>\n",
       "      <td>1.000000</td>\n",
       "      <td>1.000000</td>\n",
       "    </tr>\n",
       "    <tr>\n",
       "      <th>25%</th>\n",
       "      <td>2.000000</td>\n",
       "      <td>1.000000</td>\n",
       "      <td>2.000000</td>\n",
       "      <td>3.000000</td>\n",
       "      <td>1.000000</td>\n",
       "      <td>1.00000</td>\n",
       "      <td>1.000000</td>\n",
       "      <td>2.000000</td>\n",
       "    </tr>\n",
       "    <tr>\n",
       "      <th>50%</th>\n",
       "      <td>3.000000</td>\n",
       "      <td>3.000000</td>\n",
       "      <td>3.000000</td>\n",
       "      <td>4.000000</td>\n",
       "      <td>3.000000</td>\n",
       "      <td>3.00000</td>\n",
       "      <td>3.000000</td>\n",
       "      <td>4.000000</td>\n",
       "    </tr>\n",
       "    <tr>\n",
       "      <th>75%</th>\n",
       "      <td>4.000000</td>\n",
       "      <td>5.000000</td>\n",
       "      <td>4.000000</td>\n",
       "      <td>5.000000</td>\n",
       "      <td>4.000000</td>\n",
       "      <td>4.00000</td>\n",
       "      <td>4.000000</td>\n",
       "      <td>8.000000</td>\n",
       "    </tr>\n",
       "    <tr>\n",
       "      <th>max</th>\n",
       "      <td>5.000000</td>\n",
       "      <td>5.000000</td>\n",
       "      <td>5.000000</td>\n",
       "      <td>5.000000</td>\n",
       "      <td>5.000000</td>\n",
       "      <td>5.00000</td>\n",
       "      <td>5.000000</td>\n",
       "      <td>10.000000</td>\n",
       "    </tr>\n",
       "  </tbody>\n",
       "</table>\n",
       "</div>"
      ],
      "text/plain": [
       "       Seating Comfort  Staff Service  Food Quality  Entertainment  \\\n",
       "count      1477.000000    1476.000000   1418.000000    1380.000000   \n",
       "mean          3.223426       2.977642      3.000000       3.704348   \n",
       "std           1.401284       1.592836      1.476707       1.376108   \n",
       "min           1.000000       1.000000      1.000000       1.000000   \n",
       "25%           2.000000       1.000000      2.000000       3.000000   \n",
       "50%           3.000000       3.000000      3.000000       4.000000   \n",
       "75%           4.000000       5.000000      4.000000       5.000000   \n",
       "max           5.000000       5.000000      5.000000       5.000000   \n",
       "\n",
       "             WiFi  Ground Service  Value for Money  Overall Rating  \n",
       "count  934.000000      1501.00000      1540.000000     1540.000000  \n",
       "mean     2.751606         2.85010         2.819481        4.814286  \n",
       "std      1.478815         1.59233         1.534489        3.331275  \n",
       "min      1.000000         1.00000         1.000000        1.000000  \n",
       "25%      1.000000         1.00000         1.000000        2.000000  \n",
       "50%      3.000000         3.00000         3.000000        4.000000  \n",
       "75%      4.000000         4.00000         4.000000        8.000000  \n",
       "max      5.000000         5.00000         5.000000       10.000000  "
      ]
     },
     "execution_count": 28,
     "metadata": {},
     "output_type": "execute_result"
    }
   ],
   "source": [
    "df.describe()"
   ]
  },
  {
   "cell_type": "code",
   "execution_count": 29,
   "id": "c7b00b5e",
   "metadata": {},
   "outputs": [
    {
     "data": {
      "text/plain": [
       "0"
      ]
     },
     "execution_count": 29,
     "metadata": {},
     "output_type": "execute_result"
    }
   ],
   "source": [
    "df.duplicated().sum()"
   ]
  },
  {
   "cell_type": "code",
   "execution_count": 30,
   "id": "400c998e",
   "metadata": {},
   "outputs": [
    {
     "data": {
      "text/plain": [
       "Title                0\n",
       "Date Published       0\n",
       "Status             142\n",
       "Aircraft           503\n",
       "Travel Type          0\n",
       "Travel Class         0\n",
       "Route                2\n",
       "Date Flown           0\n",
       "Seating Comfort     63\n",
       "Staff Service       64\n",
       "Food Quality       122\n",
       "Entertainment      160\n",
       "WiFi               606\n",
       "Ground Service      39\n",
       "Value for Money      0\n",
       "Recommended          0\n",
       "Overall Rating       0\n",
       "Review               0\n",
       "Country              0\n",
       "dtype: int64"
      ]
     },
     "execution_count": 30,
     "metadata": {},
     "output_type": "execute_result"
    }
   ],
   "source": [
    "df.isna().sum()"
   ]
  },
  {
   "cell_type": "code",
   "execution_count": 31,
   "id": "947c51de",
   "metadata": {},
   "outputs": [],
   "source": [
    "df.fillna(method=\"ffill\", inplace =True)"
   ]
  },
  {
   "cell_type": "code",
   "execution_count": 32,
   "id": "d8b9d142",
   "metadata": {},
   "outputs": [
    {
     "data": {
      "text/plain": [
       "Title              0\n",
       "Date Published     0\n",
       "Status             0\n",
       "Aircraft           0\n",
       "Travel Type        0\n",
       "Travel Class       0\n",
       "Route              0\n",
       "Date Flown         0\n",
       "Seating Comfort    0\n",
       "Staff Service      0\n",
       "Food Quality       0\n",
       "Entertainment      0\n",
       "WiFi               0\n",
       "Ground Service     0\n",
       "Value for Money    0\n",
       "Recommended        0\n",
       "Overall Rating     0\n",
       "Review             0\n",
       "Country            0\n",
       "dtype: int64"
      ]
     },
     "execution_count": 32,
     "metadata": {},
     "output_type": "execute_result"
    }
   ],
   "source": [
    "df.isna().sum()"
   ]
  },
  {
   "cell_type": "code",
   "execution_count": 16,
   "id": "976d0ca9",
   "metadata": {},
   "outputs": [],
   "source": [
    "import seaborn as sns"
   ]
  },
  {
   "cell_type": "code",
   "execution_count": 33,
   "id": "e92d644f",
   "metadata": {},
   "outputs": [
    {
     "data": {
      "text/plain": [
       "(1540, 19)"
      ]
     },
     "execution_count": 33,
     "metadata": {},
     "output_type": "execute_result"
    }
   ],
   "source": [
    "df.shape"
   ]
  },
  {
   "cell_type": "code",
   "execution_count": 18,
   "id": "245a37ef",
   "metadata": {},
   "outputs": [
    {
     "ename": "TypeError",
     "evalue": "heatmap() missing 1 required positional argument: 'data'",
     "output_type": "error",
     "traceback": [
      "\u001b[1;31m---------------------------------------------------------------------------\u001b[0m",
      "\u001b[1;31mTypeError\u001b[0m                                 Traceback (most recent call last)",
      "Cell \u001b[1;32mIn[18], line 1\u001b[0m\n\u001b[1;32m----> 1\u001b[0m sns\u001b[38;5;241m.\u001b[39mheatmap()\n",
      "\u001b[1;31mTypeError\u001b[0m: heatmap() missing 1 required positional argument: 'data'"
     ]
    }
   ],
   "source": [
    "sns.heatmap()"
   ]
  },
  {
   "cell_type": "code",
   "execution_count": null,
   "id": "4c58d345",
   "metadata": {},
   "outputs": [],
   "source": []
  }
 ],
 "metadata": {
  "kernelspec": {
   "display_name": "Python 3 (ipykernel)",
   "language": "python",
   "name": "python3"
  },
  "language_info": {
   "codemirror_mode": {
    "name": "ipython",
    "version": 3
   },
   "file_extension": ".py",
   "mimetype": "text/x-python",
   "name": "python",
   "nbconvert_exporter": "python",
   "pygments_lexer": "ipython3",
   "version": "3.11.4"
  }
 },
 "nbformat": 4,
 "nbformat_minor": 5
}
